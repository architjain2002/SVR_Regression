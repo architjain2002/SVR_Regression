{
 "cells": [
  {
   "cell_type": "code",
   "execution_count": 198,
   "source": [
    "import numpy as np\r\n",
    "import matplotlib.pyplot as mtp\r\n",
    "import pandas as pd"
   ],
   "outputs": [],
   "metadata": {}
  },
  {
   "cell_type": "code",
   "execution_count": 199,
   "source": [
    "dataset = pd.read_csv(\"../../../dataset/Salary_Data.csv\")"
   ],
   "outputs": [],
   "metadata": {}
  },
  {
   "cell_type": "code",
   "execution_count": 200,
   "source": [
    "X = dataset.iloc[:,:-1].values\r\n",
    "Y = dataset.iloc[:,1].values.reshape(-1, 1)"
   ],
   "outputs": [],
   "metadata": {}
  },
  {
   "cell_type": "code",
   "execution_count": 201,
   "source": [
    "# from sklearn.preprocessing import LabelEncoder ,OneHotEncoder\r\n",
    "# LabelEncoder_X = LabelEncoder()\r\n",
    "# X[:,3] = LabelEncoder_X.fit_transform(X[:,3])"
   ],
   "outputs": [],
   "metadata": {}
  },
  {
   "cell_type": "code",
   "execution_count": 202,
   "source": [
    "# from sklearn.compose import ColumnTransformer\r\n",
    "# ct = ColumnTransformer([(\"Profit\", OneHotEncoder(), [3])], remainder = 'passthrough')\r\n",
    "# X = ct.fit_transform(X)"
   ],
   "outputs": [],
   "metadata": {}
  },
  {
   "cell_type": "code",
   "execution_count": 203,
   "source": [
    "from sklearn.model_selection import train_test_split\r\n",
    "X_train,X_test,Y_train,Y_test = train_test_split(X,Y,test_size=0.1,random_state=0)\r\n",
    "from sklearn.preprocessing import StandardScaler\r\n",
    "sc_X = StandardScaler()\r\n",
    "sc_Y = StandardScaler()\r\n",
    "X = sc_X.fit_transform(X_train)\r\n",
    "Y = sc_Y.fit_transform(Y_train)"
   ],
   "outputs": [],
   "metadata": {}
  },
  {
   "cell_type": "code",
   "execution_count": 204,
   "source": [
    "from sklearn.svm import SVR\r\n",
    "regressor = SVR(kernel = 'rbf')\r\n",
    "regressor.fit(X,Y)"
   ],
   "outputs": [
    {
     "output_type": "stream",
     "name": "stderr",
     "text": [
      "C:\\Users\\arcyj\\AppData\\Local\\Programs\\Python\\Python39\\lib\\site-packages\\sklearn\\utils\\validation.py:63: DataConversionWarning: A column-vector y was passed when a 1d array was expected. Please change the shape of y to (n_samples, ), for example using ravel().\n",
      "  return f(*args, **kwargs)\n"
     ]
    },
    {
     "output_type": "execute_result",
     "data": {
      "text/plain": [
       "SVR()"
      ]
     },
     "metadata": {},
     "execution_count": 204
    }
   ],
   "metadata": {}
  },
  {
   "cell_type": "code",
   "execution_count": 210,
   "source": [
    "Y_pred = sc_Y.inverse_transform(regressor.predict(sc_X.transform(np.array([[4.0]]))))\r\n",
    "Y_pred"
   ],
   "outputs": [
    {
     "output_type": "execute_result",
     "data": {
      "text/plain": [
       "array([61518.10826916])"
      ]
     },
     "metadata": {},
     "execution_count": 210
    }
   ],
   "metadata": {}
  },
  {
   "cell_type": "code",
   "execution_count": 207,
   "source": [
    "X_grid = np.arange(min(X),max(X),0.1)\r\n",
    "X_grid = X_grid.reshape((len(X_grid),1))\r\n",
    "mtp.scatter(X ,Y,color ='red')\r\n",
    "mtp.plot(X_grid,regressor.predict(X_grid), color = 'blue')\r\n",
    "mtp.title('svr model')\r\n",
    "mtp.xlabel('Years')\r\n",
    "mtp.ylabel('salary')\r\n",
    "mtp.show()"
   ],
   "outputs": [
    {
     "output_type": "display_data",
     "data": {
      "text/plain": [
       "<Figure size 432x288 with 1 Axes>"
      ],
      "image/png": "[encoded data removed]"
     },
     "metadata": {
      "needs_background": "light"
     }
    }
   ],
   "metadata": {}
  }
 ],
 "metadata": {
  "orig_nbformat": 4,
  "language_info": {
   "name": "python",
   "version": "3.9.6",
   "mimetype": "text/x-python",
   "codemirror_mode": {
    "name": "ipython",
    "version": 3
   },
   "pygments_lexer": "ipython3",
   "nbconvert_exporter": "python",
   "file_extension": ".py"
  },
  "kernelspec": {
   "name": "python3",
   "display_name": "Python 3.9.6 64-bit"
  },
  "interpreter": {
   "hash": "aa16eebc24a407bf27ad521d6867b38fcb0dc59326f83deff352e5076124f736"
  }
 },
 "nbformat": 4,
 "nbformat_minor": 2
}